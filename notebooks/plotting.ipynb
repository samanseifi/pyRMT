{
 "cells": [
  {
   "cell_type": "code",
   "execution_count": 28,
   "id": "143f6521",
   "metadata": {},
   "outputs": [],
   "source": [
    "import h5py\n",
    "import matplotlib.pyplot as plt\n",
    "import numpy as np\n",
    "from mpl_toolkits.mplot3d import Axes3D\n",
    "from mpl_toolkits import mplot3d\n",
    "from scipy.ndimage import gaussian_filter\n",
    "import matplotlib.colors as mcolors\n"
   ]
  },
  {
   "cell_type": "code",
   "execution_count": 29,
   "id": "5dde4ad5",
   "metadata": {},
   "outputs": [],
   "source": [
    "def create_grid(Nx, Ny, Lx, Ly):\n",
    "    x = np.linspace(0, Lx, Nx)\n",
    "    y = np.linspace(0, Ly, Ny)\n",
    "    dx = x[1] - x[0]\n",
    "    dy = y[1] - y[0]\n",
    "    X, Y = np.meshgrid(x, y)\n",
    "    return X, Y, dx, dy"
   ]
  },
  {
   "cell_type": "code",
   "execution_count": 30,
   "id": "42f732d4",
   "metadata": {},
   "outputs": [],
   "source": [
    "with h5py.File(\"../outputs/output_lid_driven_soft_disc/data_000600.h5\", \"r\") as f:\n",
    "    phi0 = f[\"phi\"][:]\n",
    "    sigma_xx0 = f[\"sigma_xx\"][:]\n",
    "    sigma_xy0 = f[\"sigma_xy\"][:]\n",
    "    sigma_yy0 = f[\"sigma_yy\"][:]\n",
    "    X10 = f[\"X1\"][:]\n",
    "    X20 = f[\"X2\"][:]\n",
    "    J0 = f[\"J\"][:]\n",
    "    a0 = f[\"a\"][:]\n",
    "    b0 = f[\"b\"][:]\n",
    "    p0 = f[\"p\"][:]\n",
    "    div_vel0 = f[\"div_vel\"][:]\n",
    "\n",
    "with h5py.File(\"../outputs/output_lid_driven_soft_disc/data_000600.h5\", \"r\") as f:\n",
    "    phi = f[\"phi\"][:]\n",
    "    sigma_xx = f[\"sigma_xx\"][:]\n",
    "    sigma_xy = f[\"sigma_xy\"][:]\n",
    "    sigma_yy = f[\"sigma_yy\"][:]\n",
    "    X1 = f[\"X1\"][:]\n",
    "    X2 = f[\"X2\"][:]\n",
    "    J = f[\"J\"][:]\n",
    "    a = f[\"a\"][:]\n",
    "    b = f[\"b\"][:]\n",
    "    p = f[\"p\"][:]\n",
    "    div_vel = f[\"div_vel\"][:]"
   ]
  },
  {
   "cell_type": "code",
   "execution_count": 31,
   "id": "8dcc52f6",
   "metadata": {},
   "outputs": [
    {
     "ename": "FileNotFoundError",
     "evalue": "[Errno 2] Unable to synchronously open file (unable to open file: name = '../outputs/output_lid_driven/data_063000.h5', errno = 2, error message = 'No such file or directory', flags = 0, o_flags = 0)",
     "output_type": "error",
     "traceback": [
      "\u001b[0;31m---------------------------------------------------------------------------\u001b[0m",
      "\u001b[0;31mFileNotFoundError\u001b[0m                         Traceback (most recent call last)",
      "Cell \u001b[0;32mIn[31], line 17\u001b[0m\n\u001b[1;32m     14\u001b[0m     p0 \u001b[38;5;241m=\u001b[39m f[\u001b[38;5;124m\"\u001b[39m\u001b[38;5;124mp\u001b[39m\u001b[38;5;124m\"\u001b[39m][:]\n\u001b[1;32m     15\u001b[0m     div_vel0 \u001b[38;5;241m=\u001b[39m f[\u001b[38;5;124m\"\u001b[39m\u001b[38;5;124mdiv_vel\u001b[39m\u001b[38;5;124m\"\u001b[39m][:]\n\u001b[0;32m---> 17\u001b[0m \u001b[38;5;28;01mwith\u001b[39;00m \u001b[43mh5py\u001b[49m\u001b[38;5;241;43m.\u001b[39;49m\u001b[43mFile\u001b[49m\u001b[43m(\u001b[49m\u001b[38;5;124;43m\"\u001b[39;49m\u001b[38;5;124;43m../outputs/output_lid_driven/data_063000.h5\u001b[39;49m\u001b[38;5;124;43m\"\u001b[39;49m\u001b[43m,\u001b[49m\u001b[43m \u001b[49m\u001b[38;5;124;43m\"\u001b[39;49m\u001b[38;5;124;43mr\u001b[39;49m\u001b[38;5;124;43m\"\u001b[39;49m\u001b[43m)\u001b[49m \u001b[38;5;28;01mas\u001b[39;00m f:\n\u001b[1;32m     18\u001b[0m     phi \u001b[38;5;241m=\u001b[39m f[\u001b[38;5;124m\"\u001b[39m\u001b[38;5;124mphi\u001b[39m\u001b[38;5;124m\"\u001b[39m][:]\n\u001b[1;32m     19\u001b[0m     sigma_xx \u001b[38;5;241m=\u001b[39m f[\u001b[38;5;124m\"\u001b[39m\u001b[38;5;124msigma_xx\u001b[39m\u001b[38;5;124m\"\u001b[39m][:]\n",
      "File \u001b[0;32m~/miniforge3/lib/python3.10/site-packages/h5py/_hl/files.py:561\u001b[0m, in \u001b[0;36mFile.__init__\u001b[0;34m(self, name, mode, driver, libver, userblock_size, swmr, rdcc_nslots, rdcc_nbytes, rdcc_w0, track_order, fs_strategy, fs_persist, fs_threshold, fs_page_size, page_buf_size, min_meta_keep, min_raw_keep, locking, alignment_threshold, alignment_interval, meta_block_size, **kwds)\u001b[0m\n\u001b[1;32m    552\u001b[0m     fapl \u001b[38;5;241m=\u001b[39m make_fapl(driver, libver, rdcc_nslots, rdcc_nbytes, rdcc_w0,\n\u001b[1;32m    553\u001b[0m                      locking, page_buf_size, min_meta_keep, min_raw_keep,\n\u001b[1;32m    554\u001b[0m                      alignment_threshold\u001b[38;5;241m=\u001b[39malignment_threshold,\n\u001b[1;32m    555\u001b[0m                      alignment_interval\u001b[38;5;241m=\u001b[39malignment_interval,\n\u001b[1;32m    556\u001b[0m                      meta_block_size\u001b[38;5;241m=\u001b[39mmeta_block_size,\n\u001b[1;32m    557\u001b[0m                      \u001b[38;5;241m*\u001b[39m\u001b[38;5;241m*\u001b[39mkwds)\n\u001b[1;32m    558\u001b[0m     fcpl \u001b[38;5;241m=\u001b[39m make_fcpl(track_order\u001b[38;5;241m=\u001b[39mtrack_order, fs_strategy\u001b[38;5;241m=\u001b[39mfs_strategy,\n\u001b[1;32m    559\u001b[0m                      fs_persist\u001b[38;5;241m=\u001b[39mfs_persist, fs_threshold\u001b[38;5;241m=\u001b[39mfs_threshold,\n\u001b[1;32m    560\u001b[0m                      fs_page_size\u001b[38;5;241m=\u001b[39mfs_page_size)\n\u001b[0;32m--> 561\u001b[0m     fid \u001b[38;5;241m=\u001b[39m \u001b[43mmake_fid\u001b[49m\u001b[43m(\u001b[49m\u001b[43mname\u001b[49m\u001b[43m,\u001b[49m\u001b[43m \u001b[49m\u001b[43mmode\u001b[49m\u001b[43m,\u001b[49m\u001b[43m \u001b[49m\u001b[43muserblock_size\u001b[49m\u001b[43m,\u001b[49m\u001b[43m \u001b[49m\u001b[43mfapl\u001b[49m\u001b[43m,\u001b[49m\u001b[43m \u001b[49m\u001b[43mfcpl\u001b[49m\u001b[43m,\u001b[49m\u001b[43m \u001b[49m\u001b[43mswmr\u001b[49m\u001b[38;5;241;43m=\u001b[39;49m\u001b[43mswmr\u001b[49m\u001b[43m)\u001b[49m\n\u001b[1;32m    563\u001b[0m \u001b[38;5;28;01mif\u001b[39;00m \u001b[38;5;28misinstance\u001b[39m(libver, \u001b[38;5;28mtuple\u001b[39m):\n\u001b[1;32m    564\u001b[0m     \u001b[38;5;28mself\u001b[39m\u001b[38;5;241m.\u001b[39m_libver \u001b[38;5;241m=\u001b[39m libver\n",
      "File \u001b[0;32m~/miniforge3/lib/python3.10/site-packages/h5py/_hl/files.py:235\u001b[0m, in \u001b[0;36mmake_fid\u001b[0;34m(name, mode, userblock_size, fapl, fcpl, swmr)\u001b[0m\n\u001b[1;32m    233\u001b[0m     \u001b[38;5;28;01mif\u001b[39;00m swmr \u001b[38;5;129;01mand\u001b[39;00m swmr_support:\n\u001b[1;32m    234\u001b[0m         flags \u001b[38;5;241m|\u001b[39m\u001b[38;5;241m=\u001b[39m h5f\u001b[38;5;241m.\u001b[39mACC_SWMR_READ\n\u001b[0;32m--> 235\u001b[0m     fid \u001b[38;5;241m=\u001b[39m \u001b[43mh5f\u001b[49m\u001b[38;5;241;43m.\u001b[39;49m\u001b[43mopen\u001b[49m\u001b[43m(\u001b[49m\u001b[43mname\u001b[49m\u001b[43m,\u001b[49m\u001b[43m \u001b[49m\u001b[43mflags\u001b[49m\u001b[43m,\u001b[49m\u001b[43m \u001b[49m\u001b[43mfapl\u001b[49m\u001b[38;5;241;43m=\u001b[39;49m\u001b[43mfapl\u001b[49m\u001b[43m)\u001b[49m\n\u001b[1;32m    236\u001b[0m \u001b[38;5;28;01melif\u001b[39;00m mode \u001b[38;5;241m==\u001b[39m \u001b[38;5;124m'\u001b[39m\u001b[38;5;124mr+\u001b[39m\u001b[38;5;124m'\u001b[39m:\n\u001b[1;32m    237\u001b[0m     fid \u001b[38;5;241m=\u001b[39m h5f\u001b[38;5;241m.\u001b[39mopen(name, h5f\u001b[38;5;241m.\u001b[39mACC_RDWR, fapl\u001b[38;5;241m=\u001b[39mfapl)\n",
      "File \u001b[0;32mh5py/_objects.pyx:54\u001b[0m, in \u001b[0;36mh5py._objects.with_phil.wrapper\u001b[0;34m()\u001b[0m\n",
      "File \u001b[0;32mh5py/_objects.pyx:55\u001b[0m, in \u001b[0;36mh5py._objects.with_phil.wrapper\u001b[0;34m()\u001b[0m\n",
      "File \u001b[0;32mh5py/h5f.pyx:102\u001b[0m, in \u001b[0;36mh5py.h5f.open\u001b[0;34m()\u001b[0m\n",
      "\u001b[0;31mFileNotFoundError\u001b[0m: [Errno 2] Unable to synchronously open file (unable to open file: name = '../outputs/output_lid_driven/data_063000.h5', errno = 2, error message = 'No such file or directory', flags = 0, o_flags = 0)"
     ]
    }
   ],
   "source": [
    "# plot the benchmark at cavity center line\n",
    "Ny0 = Nx0 = 128\n",
    "Ny = Nx = 128\n",
    "y0 = np.linspace(0, 1, Ny0)\n",
    "y = np.linspace(0, 1, Ny)"
   ]
  },
  {
   "cell_type": "code",
   "execution_count": null,
   "id": "47780ccc",
   "metadata": {},
   "outputs": [],
   "source": [
    "# a = gaussian_filter(a, sigma=1)\n",
    "# a0 = gaussian_filter(a0, sigma=1)\n",
    "u_center_x = a[:, Nx // 2]  # u_x at center vertical line\n",
    "u_center_x0 = a0[:, Nx0 // 2]  # u_x at center vertical line\n",
    "\n",
    "# load plot_u_y_Ghia100.csv first column y and second column u\n",
    "u_ghia = np.loadtxt(\"../data/plot_u_y_Ghia100.csv\", delimiter=\",\", skiprows=1)\n",
    "y_ghia = u_ghia[:, 0]\n",
    "u_ghia = u_ghia[:, 1]\n",
    "# plot the benchmark at cavity center line\n",
    "\n",
    "plt.plot(u_center_x, y, 'b', label=r\"128 $\\times$ 128\")\n",
    "# plt.plot(u_center_x0, y0, \"r--\", label=\"Initial\")\n",
    "plt.xlabel(r\"$u_x$ (horizontal velocity)\", fontsize=12)\n",
    "plt.ylabel(r\"$y$\", fontsize=12)\n",
    "plt.title(r\"$u_x$ vs $y$ at $x=0.5$ (vertical centerline)\", fontsize=13)\n",
    "plt.grid(True)\n",
    "plt.gca().invert_yaxis()\n",
    "plt.legend()\n",
    "plt.tick_params(labelsize=11)\n",
    "plt.show()"
   ]
  },
  {
   "cell_type": "code",
   "execution_count": null,
   "id": "eddbd0e7",
   "metadata": {},
   "outputs": [],
   "source": [
    "\n",
    "Lx, Ly = 1.0, 1.0\n",
    "X, Y, dx, dy = create_grid(Nx, Ny, Lx, Ly)\n",
    "X0, Y0, dx0, dy0 = create_grid(Nx0, Ny0, Lx, Ly)\n",
    "\n",
    "print(2*dx)\n",
    "\n",
    "dpdx, dpdy = np.gradient(p0, dx, dy)\n",
    "\n",
    "plt.contourf(X, Y, a, levels=100, cmap=\"jet\")\n",
    "plt.colorbar()\n",
    "plt.contour(X,Y, phi, levels=[0])\n",
    "plt.axis('equal')\n",
    "plt.show()"
   ]
  },
  {
   "cell_type": "code",
   "execution_count": null,
   "id": "d754b2e3",
   "metadata": {},
   "outputs": [],
   "source": [
    "# phi = reinitialize_phi_PDE(phi, dx, dy, num_iters=2000, apply_phi_BCs_func=None, dt_reinit_factor=0.1)\n",
    "plt.contourf(X, Y, phi, levels=100, cmap=\"jet\")\n",
    "plt.contour(X,Y, phi, levels=[0])\n",
    "plt.axis('equal')\n",
    "plt.show()"
   ]
  },
  {
   "cell_type": "code",
   "execution_count": null,
   "id": "7ee8195c",
   "metadata": {},
   "outputs": [],
   "source": [
    "plt.contourf(X, Y, X1, levels=20)\n",
    "plt.contour(X, Y, phi, levels=[0])\n",
    "plt.axis('equal')\n",
    "plt.show()"
   ]
  },
  {
   "cell_type": "code",
   "execution_count": null,
   "id": "9ddc84cd",
   "metadata": {},
   "outputs": [],
   "source": [
    "# Mask the region where phi <= 0 (solid) to make it white\n",
    "a_masked = np.ma.masked_where(phi <= 0, a)\n",
    "b_masked = np.ma.masked_where(phi <= 0, b)\n",
    "\n",
    "u_mag_masked = np.ma.masked_where(phi <= 0, np.sqrt(a_masked**2 + b_masked**2))\n",
    "\n",
    "plt.figure(figsize=(6, 6))\n",
    "plt.contourf(X, Y, u_mag_masked, levels=50, cmap=\"Spectral_r\")\n",
    "\n",
    "# Overlay a white patch over the solid region (optional for clean white fill)\n",
    "plt.contourf(X, Y, phi <= 0, levels=[0.5, 1], colors='white', zorder=2)\n",
    "\n",
    "# Add reference map contours\n",
    "X1_masked = np.where(phi <= 0, X1, np.nan)\n",
    "X2_masked = np.where(phi <= 0, X2, np.nan)\n",
    "plt.contour(X, Y, phi, levels=[0], colors='black', linewidths=1.5, zorder=3)\n",
    "plt.contour(X, Y, X1_masked, levels=15, colors='black', linewidths=0.5, linestyles='solid', zorder=4)\n",
    "plt.contour(X, Y, X2_masked, levels=15, colors='black', linewidths=0.5, linestyles='dashed', zorder=4)\n",
    "\n",
    "plt.title(\"Deformation of Soft Disc in Lid-Driven Cavity Flow\", fontsize=10)\n",
    "plt.axis('equal')\n",
    "plt.show()"
   ]
  },
  {
   "cell_type": "code",
   "execution_count": null,
   "id": "fcaf8eaf",
   "metadata": {},
   "outputs": [],
   "source": [
    "# smooth out the data\n",
    "solid_mask = phi <= 0\n",
    "sigma_vmises = np.sqrt(sigma_xx**2 - sigma_xx*sigma_yy + sigma_yy**2 + 3*sigma_xy**2)\n",
    "sigma_vmises = gaussian_filter(sigma_vmises, sigma=0.5)\n",
    "\n",
    "sigma_vmises0 = np.sqrt(sigma_xx0**2 - sigma_xx0*sigma_yy0 + sigma_yy0**2 + 3*sigma_xy0**2)\n",
    "# sigma_vmises0 = gaussian_filter(sigma_vmises0, sigma=0.1)\n",
    "plt.contourf(X,Y, sigma_vmises, levels=20, cmap=\"coolwarm\")\n",
    "plt.colorbar()\n",
    "\n",
    "plt.contour(X,  Y, phi, levels=[0], colors='black', linewidths=2.2, linestyles='-')\n",
    "plt.contour(X0, Y0, phi0, levels=[0], colors='red', linewidths=1, linestyles='--')\n",
    "\n",
    "plt.gca().set_aspect('equal')\n",
    "\n",
    "plt.title(\"Von Mises Stress Distribution\")\n",
    "plt.show()\n"
   ]
  },
  {
   "cell_type": "code",
   "execution_count": null,
   "id": "114abf1b",
   "metadata": {},
   "outputs": [],
   "source": [
    "# J = gaussian_filter(J, sigma=1)\n",
    "plt.contour(X0, Y0, phi00, levels=[0], colors='black', linewidths=0.5)\n",
    "plt.contour(X, Y, phi, levels=[0], colors='k', linewidths=1, linestyles='-')\n",
    "plt.contour(X0, Y0, phi0, levels=[0], colors='r', linewidths=1, linestyles='--')\n",
    "solid_mask = phi <= 0\n",
    "plt.contourf(X,Y, J, levels=20)\n",
    "plt.colorbar()\n",
    "plt.gca().set_aspect('equal')\n",
    "\n",
    "plt.title(\"Deformed Solid Mesh: Det(F)\")\n",
    "plt.show()\n",
    "\n",
    "# print the norm of (1/J - 1)\n",
    "norm_diff = np.linalg.norm(J - 1)\n",
    "print(f\"Norm of (J-1): {norm_diff:.4e}\")"
   ]
  },
  {
   "cell_type": "code",
   "execution_count": null,
   "id": "5bebf976",
   "metadata": {},
   "outputs": [],
   "source": [
    "# Create Meshgrid for 3D surface plot\n",
    "Lx, Ly = 1.0, 1.0\n",
    "X, Y, dx, dy = create_grid(Nx, Ny, Lx, Ly)\n",
    "\n",
    "# plot 2D velocity streamlines\n",
    "fig, ax = plt.subplots()\n",
    "ax.streamplot(X, Y, a, b, linewidth=0.5, density=3.5)\n",
    "ax.set_title('2D Velocity Streamlines')\n",
    "ax.set_xlabel('X')\n",
    "ax.set_ylabel('Y')\n",
    "plt.gca().set_aspect('equal')\n",
    "\n",
    "ax.contour(X, Y, phi, levels=[0], colors='black', linewidths=2.5, linestyles='--')\n",
    "plt.show()"
   ]
  },
  {
   "cell_type": "code",
   "execution_count": null,
   "id": "93dd0fbe",
   "metadata": {},
   "outputs": [],
   "source": [
    "# plot 2D velocity quiver\n",
    "fig, ax = plt.subplots()\n",
    "ax.quiver(X[::3, ::3], Y[::3, ::3], a[::3, ::3], b[::3, ::3], angles='xy', scale_units='xy', scale=10.5, color='k')\n",
    "ax.set_title('2D Velocity Quiver')\n",
    "ax.set_xlabel('X')\n",
    "ax.set_ylabel('Y')\n",
    "plt.gca().set_aspect('equal')\n",
    "plt.contour(X, Y, phi, levels=[0])\n",
    "plt.show()\n"
   ]
  }
 ],
 "metadata": {
  "kernelspec": {
   "display_name": "base",
   "language": "python",
   "name": "python3"
  },
  "language_info": {
   "codemirror_mode": {
    "name": "ipython",
    "version": 3
   },
   "file_extension": ".py",
   "mimetype": "text/x-python",
   "name": "python",
   "nbconvert_exporter": "python",
   "pygments_lexer": "ipython3",
   "version": "3.10.13"
  }
 },
 "nbformat": 4,
 "nbformat_minor": 5
}
